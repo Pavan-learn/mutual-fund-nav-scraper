{
 "cells": [
  {
   "cell_type": "code",
   "execution_count": null,
   "id": "7530dc28",
   "metadata": {},
   "outputs": [],
   "source": [
    "\n",
    "from dotenv import load_dotenv\n",
    "import os\n",
    "\n",
    "load_dotenv()\n",
    "\n",
    "DB_NAME = os.getenv(\"DB_NAME\")\n",
    "DB_USER = os.getenv(\"DB_USER\")\n",
    "DB_PASS = os.getenv(\"DB_PASS\")\n",
    "DB_HOST = os.getenv(\"DB_HOST\", \"localhost\")\n",
    "DB_PORT = os.getenv(\"DB_PORT\", \"5432\")\n"
   ]
  },
  {
   "cell_type": "markdown",
   "id": "f279884a",
   "metadata": {},
   "source": [
    "# Imports"
   ]
  },
  {
   "cell_type": "code",
   "execution_count": 1,
   "id": "737194ea",
   "metadata": {},
   "outputs": [],
   "source": [
    "from datetime import datetime;\n",
    "\n",
    "import requests\n",
    "from bs4 import BeautifulSoup\n",
    "\n",
    "from datetime import datetime, timedelta\n",
    "\n",
    "import psycopg2 as pg2\n"
   ]
  },
  {
   "cell_type": "markdown",
   "id": "9d13a020",
   "metadata": {},
   "source": [
    "# Safe Float method"
   ]
  },
  {
   "cell_type": "code",
   "execution_count": 2,
   "id": "99180797",
   "metadata": {},
   "outputs": [],
   "source": [
    "# Utility function to handle invalid data\n",
    "def safe_float(value):\n",
    "    if value == '#DIV/0!' or value == '' or value is None:\n",
    "        return 0.0  # or you could return None if you prefer to handle it differently\n",
    "    try:\n",
    "        return float(value)\n",
    "    except ValueError:\n",
    "        return 0.0  # Fallback to 0.0 in case the value can't be converted"
   ]
  },
  {
   "cell_type": "markdown",
   "id": "278c885c",
   "metadata": {},
   "source": [
    "# Date method\n"
   ]
  },
  {
   "cell_type": "code",
   "execution_count": 3,
   "id": "6451b66c",
   "metadata": {},
   "outputs": [],
   "source": [
    "def generateDate():\n",
    "    baseDate=datetime.now().strftime('%d-%b-%Y')\n",
    "    return baseDate"
   ]
  },
  {
   "cell_type": "markdown",
   "id": "276615cb",
   "metadata": {},
   "source": [
    "# Check Week Day"
   ]
  },
  {
   "cell_type": "code",
   "execution_count": 4,
   "id": "2ee0d6dd",
   "metadata": {},
   "outputs": [],
   "source": [
    "# Define the checkIfWeekDay function\n",
    "def checkIfWeekDay(date):\n",
    "    isWeekDay = False\n",
    "    # Convert the string date to a datetime object and check if it's a weekday\n",
    "    if datetime.strptime(date, '%d-%b-%Y').weekday() < 5:  # 0-4 are weekdays (Mon-Fri)\n",
    "        isWeekDay = True\n",
    "    else:\n",
    "        isWeekDay = False\n",
    "    return isWeekDay\n"
   ]
  },
  {
   "cell_type": "markdown",
   "id": "3ab4c119",
   "metadata": {},
   "source": [
    "# Portal Status"
   ]
  },
  {
   "cell_type": "code",
   "execution_count": 5,
   "id": "e0c6f72c",
   "metadata": {},
   "outputs": [],
   "source": [
    "\n",
    "def checkPortalStatus(date):\n",
    "    \n",
    "    portalURLStatus = f'https://portal.amfiindia.com/DownloadNAVHistoryReport_Po.aspx?frmdt={date}'\n",
    "    response = requests.get(portalURLStatus)\n",
    "\n",
    "    if response.status_code != 200:\n",
    "        print(f\"Failed to fetch data. HTTP Status code: {response.status_code}\")\n",
    "    else:\n",
    "        content = BeautifulSoup(response.text, 'html.parser')\n",
    "        content = content.get_text(strip=True)\n",
    "\n",
    "        if 'No data found on the basis of selected parameters for this report' in content:\n",
    "            portalURLStatus = portalURLStatus+' '+'Down'\n",
    "        else:\n",
    "            portalURLStatus = portalURLStatus+' '+'Up'\n",
    "    \n",
    "    return portalURLStatus"
   ]
  },
  {
   "cell_type": "markdown",
   "id": "67e463b9",
   "metadata": {},
   "source": [
    "# Latest Date in DBTable"
   ]
  },
  {
   "cell_type": "code",
   "execution_count": 6,
   "id": "cf0f701f",
   "metadata": {},
   "outputs": [],
   "source": [
    "def getMaxDate(tableName):\n",
    "    latestDate=None\n",
    "    try:\n",
    "        print('Entered MaxDate Method')\n",
    "        command=f\"select max(date) from {tableName}\"\n",
    "        dbConnection = pg2.connect(user=\"postgres\",password=\"Itsme@pa1\",database=\"MutualFundData\")\n",
    "        dbCursor = dbConnection.cursor()\n",
    "        dbCursor.execute(command)\n",
    "        result = dbCursor.fetchone()\n",
    "        latestDate = result[0].strftime('%d-%b-%Y') if result else None \n",
    "        dbCursor.close()\n",
    "        dbConnection.close()\n",
    "        print('Method endded')\n",
    "    except Exception as e:\n",
    "        print(f\"An error occurred: {e}\")\n",
    "        latestDate=None\n",
    "    \n",
    "    return latestDate\n",
    "        \n"
   ]
  },
  {
   "cell_type": "markdown",
   "id": "83b9102e",
   "metadata": {},
   "source": [
    "# Main Block"
   ]
  },
  {
   "cell_type": "code",
   "execution_count": 7,
   "id": "0ac6dcb3",
   "metadata": {
    "scrolled": false
   },
   "outputs": [
    {
     "name": "stdout",
     "output_type": "stream",
     "text": [
      "Entered MaxDate Method\n",
      "Method endded\n",
      "Current_day= 11-Apr-2025\n",
      "11-Apr-2025 Date is not Weekend\n",
      "Portal is Up extracting scheme data\n",
      "Extraction Completed for 11-Apr-2025\n",
      "Current_day= 12-Apr-2025\n",
      "12-Apr-2025 Date falls under Weekend\n",
      "Program Closed\n"
     ]
    }
   ],
   "source": [
    "try:\n",
    "    # Define first and final dates\n",
    "    tableName='HistoricalData'\n",
    "\n",
    "    first_date = (datetime.strptime(getMaxDate(tableName), '%d-%b-%Y') + timedelta(days=1)).strftime('%d-%b-%Y')\n",
    "\n",
    "    final_date = datetime.now().strftime('%d-%b-%Y')\n",
    "\n",
    "    schemeType = None\n",
    "    fundHouseName = None\n",
    "    schemeCode = None\n",
    "    schemeName = None\n",
    "    isinDivPayoutORisinGrowth = None\n",
    "    isinDivReinvestment = None\n",
    "    nav = None\n",
    "    repurchasePrice = None\n",
    "    salePrice = None\n",
    "    date = None    \n",
    "    \n",
    "    # Convert string dates to datetime objects\n",
    "    start_date = datetime.strptime(first_date, '%d-%b-%Y')\n",
    "    end_date = datetime.strptime(final_date, '%d-%b-%Y')\n",
    "\n",
    "    # Loop through the date range\n",
    "    current_day = start_date\n",
    "    while current_day <= end_date:\n",
    "        \n",
    "        #print(f'Current_day= {current_day}')\n",
    "        \n",
    "        date_str = current_day.strftime('%d-%b-%Y')  # Convert current day to string format\n",
    "        \n",
    "        print(f'Current_day= {date_str}')\n",
    "        \n",
    "        is_weekday = checkIfWeekDay(date_str)  # Check if the current day is a weekday\n",
    "        \n",
    "        if is_weekday == False:\n",
    "            print(f'{date_str} Date falls under Weekend')\n",
    "            \n",
    "        if is_weekday == True:\n",
    "            \n",
    "            print(f'{date_str} Date is not Weekend')\n",
    "            msgURL = checkPortalStatus(date_str)\n",
    "            # time.sleep(3)\n",
    "            \n",
    "            if msgURL.endswith('Down'):\n",
    "                \n",
    "                print('Portal is Down')\n",
    "                # continue\n",
    "          \n",
    "            if msgURL.endswith('Up'):\n",
    "                \n",
    "                print('Portal is Up extracting scheme data')\n",
    "                \n",
    "                msgURL = msgURL.replace('Up', '')\n",
    "                \n",
    "                msgURL = msgURL.strip()\n",
    "                \n",
    "                realTimeResponse = requests.get(msgURL)\n",
    "                \n",
    "                realTimeContent = BeautifulSoup(realTimeResponse.text, 'html.parser')\n",
    "\n",
    "                realTimeContent = realTimeContent.get_text(strip=True)\n",
    "\n",
    "                lines = realTimeContent.splitlines()\n",
    "                \n",
    "                # print(lines)\n",
    "                \n",
    "                i = 0\n",
    "                record_to_insert=[]\n",
    "                for line_number, line in enumerate(lines, start=1):\n",
    "                    i = i + 1\n",
    "                    #print(f'line number is {line_number} and value is {line}')\n",
    "                    # Skip the first line (if you want to start from the second line)\n",
    "                    if line_number == 1:\n",
    "                        continue\n",
    "    \n",
    "                    if 'Schemes' in line and line.strip():\n",
    "                        schemeType = line.strip()\n",
    "                           \n",
    "                    # print(schemeType)\n",
    "                    if 'Mutual Fund' in line and line.strip():\n",
    "                        fundHouseName = line.strip()\n",
    "                    # print(fundHouseName)\n",
    "                    if ';' in line and line.strip():\n",
    "                        parts = line.split(';')\n",
    "                        schemeCode = int(parts[0].strip())\n",
    "                        schemeName = parts[1].strip()\n",
    "                        isinDivPayoutORisinGrowth = parts[2].strip()\n",
    "                        isinDivReinvestment = parts[3].strip()\n",
    "                        nav = safe_float(parts[4].strip())\n",
    "                        repurchasePrice = safe_float(parts[5].strip()) if parts[5].strip() else 0.0\n",
    "                        salePrice = safe_float(parts[6].strip()) if parts[6].strip() else 0.0\n",
    "                        date = datetime.strptime(parts[7].strip(), \"%d-%b-%Y\").strftime(\"%d-%m-%Y\")\n",
    "                \n",
    "                    if len(line) > 0 and ';' in line:\n",
    "                        #print('reached final if')\n",
    "                        #print(f\"{schemeType} {fundHouseName} {schemeCode} {schemeName} {isinDivPayoutORisinGrowth} {isinDivReinvestment} {nav} {repurchasePrice} {salePrice} {date}\")\n",
    "                        record_to_insert.append((schemeType, fundHouseName, schemeCode, schemeName, isinDivPayoutORisinGrowth, isinDivReinvestment, nav, repurchasePrice, salePrice, date))\n",
    "                        with open(f\"C:\\\\Users\\\\B.V.PAVAN KUMAR\\\\Desktop\\\\DataAnalyst\\\\Sample Projects\\\\MF_Scheme_Data\\\\OldData\\\\OP_{date_str}.csv\", \"a\", encoding=\"utf-8\") as f:\n",
    "                            f.write(f\"{schemeType},{fundHouseName},{schemeCode},{schemeName},{isinDivPayoutORisinGrowth},{isinDivReinvestment},{nav},{repurchasePrice},{salePrice},{date}\\n\")\n",
    "                    \n",
    "                connection = pg2.connect(user=\"postgres\",password=\"Itsme@pa1\",database=\"MutualFundData\")\n",
    "                cursor = connection.cursor()\n",
    "                #postgres_insert_query = \"\"\" INSERT INTO HistoricalData (schemeType,fundHouseName,schemeCode,schemeName,isinDivPayoutORisinGrowth,isinDivReinvestment,nav,repurchasePrice,salePrice,date) VALUES (%s,%s,%s,%s,%s,%s,%s,%s,%s,%s)\"\"\"\n",
    "                postgres_insert_query = f\"\"\"INSERT INTO {tableName} (schemeType, fundHouseName, schemeCode, schemeName, isinDivPayoutORisinGrowth, isinDivReinvestment, nav, repurchasePrice, salePrice, date) VALUES (%s, %s, %s, %s, %s, %s, %s, %s, %s, %s)\"\"\"\n",
    "                cursor.executemany(postgres_insert_query, record_to_insert)\n",
    "                connection.commit()          \n",
    "                print(f'Extraction Completed for {date_str}')\n",
    "        \n",
    "        current_day += timedelta(days=1)  # Increment the day by 1\n",
    "\n",
    "except Exception as error:\n",
    "    print(\"Error:\", error)\n",
    "\n",
    "print('Program Closed')   "
   ]
  },
  {
   "cell_type": "code",
   "execution_count": null,
   "id": "45c91f45",
   "metadata": {},
   "outputs": [],
   "source": []
  }
 ],
 "metadata": {
  "kernelspec": {
   "display_name": "Python 3 (ipykernel)",
   "language": "python",
   "name": "python3"
  },
  "language_info": {
   "codemirror_mode": {
    "name": "ipython",
    "version": 3
   },
   "file_extension": ".py",
   "mimetype": "text/x-python",
   "name": "python",
   "nbconvert_exporter": "python",
   "pygments_lexer": "ipython3",
   "version": "3.9.12"
  }
 },
 "nbformat": 4,
 "nbformat_minor": 5
}
